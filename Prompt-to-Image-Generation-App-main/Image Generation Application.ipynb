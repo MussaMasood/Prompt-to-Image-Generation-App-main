{
 "cells": [
  {
   "cell_type": "markdown",
   "id": "1450424e",
   "metadata": {},
   "source": [
    "## Libraries"
   ]
  },
  {
   "cell_type": "code",
   "execution_count": 1,
   "id": "873fad45",
   "metadata": {},
   "outputs": [],
   "source": [
    "import tkinter as tk\n",
    "from tkinter import ttk\n",
    "from PIL import Image, ImageTk\n",
    "import requests\n",
    "import json\n",
    "import io, os\n",
    "from dotenv import load_dotenv\n",
    "from pathlib import Path"
   ]
  },
  {
   "cell_type": "markdown",
   "id": "79b9bc57",
   "metadata": {},
   "source": [
    "## Loading the Environment Variables"
   ]
  },
  {
   "cell_type": "code",
   "execution_count": 2,
   "id": "97786691",
   "metadata": {},
   "outputs": [],
   "source": [
    "# Load environment variables\n",
    "env_path = Path('.') / '.env'\n",
    "load_dotenv(dotenv_path=env_path)\n",
    "\n",
    "# Your HF_API_KEY and HF_API_TTI_BASE should be defined in your .env file\n",
    "hf_api_key = os.environ['HF_API_KEY']\n",
    "ENDPOINT_URL = os.environ['HF_API_TTI_BASE']"
   ]
  },
  {
   "cell_type": "markdown",
   "id": "1be252f6",
   "metadata": {},
   "source": [
    "## Sending the request"
   ]
  },
  {
   "cell_type": "code",
   "execution_count": 3,
   "id": "7009d517",
   "metadata": {},
   "outputs": [],
   "source": [
    "def get_completion(inputs, parameters=None):\n",
    "    headers = {\n",
    "        \"Authorization\": f\"Bearer {hf_api_key}\",\n",
    "        \"Content-Type\": \"application/json\"\n",
    "    }\n",
    "    data = {\"inputs\": inputs}\n",
    "    if parameters is not None:\n",
    "        data.update({\"parameters\": parameters})\n",
    "    response = requests.post(ENDPOINT_URL, headers=headers, data=json.dumps(data))\n",
    "    return response.content"
   ]
  },
  {
   "cell_type": "markdown",
   "id": "cfc9609d",
   "metadata": {},
   "source": [
    "## Creating the UI and Generating the image"
   ]
  },
  {
   "cell_type": "code",
   "execution_count": null,
   "id": "c1d778de",
   "metadata": {},
   "outputs": [],
   "source": [
    "def generate_image():\n",
    "    user_prompt = prompt_entry.get()\n",
    "    result = get_completion(user_prompt)\n",
    "    \n",
    "    # Display the generated image\n",
    "    image = Image.open(io.BytesIO(result))\n",
    "    photo = ImageTk.PhotoImage(image)\n",
    "\n",
    "    image_label.config(image=photo)\n",
    "    image_label.image = photo\n",
    "\n",
    "# Create the main application window\n",
    "app = tk.Tk()\n",
    "app.title(\"Hugging Face Image Generator\")\n",
    "\n",
    "# Create and place widgets\n",
    "prompt_label = ttk.Label(app, text=\"Enter Prompt:\")\n",
    "prompt_label.pack(pady=10)\n",
    "\n",
    "prompt_entry = ttk.Entry(app, width=50)\n",
    "prompt_entry.pack(pady=10)\n",
    "\n",
    "generate_button = ttk.Button(app, text=\"Generate Image\", command=generate_image)\n",
    "generate_button.pack(pady=10)\n",
    "\n",
    "image_label = ttk.Label(app)\n",
    "image_label.pack(pady=10)\n",
    "\n",
    "# Run the application\n",
    "app.mainloop()\n"
   ]
  }
 ],
 "metadata": {
  "kernelspec": {
   "display_name": "Python 3 (ipykernel)",
   "language": "python",
   "name": "python3"
  },
  "language_info": {
   "codemirror_mode": {
    "name": "ipython",
    "version": 3
   },
   "file_extension": ".py",
   "mimetype": "text/x-python",
   "name": "python",
   "nbconvert_exporter": "python",
   "pygments_lexer": "ipython3",
   "version": "3.11.5"
  }
 },
 "nbformat": 4,
 "nbformat_minor": 5
}
